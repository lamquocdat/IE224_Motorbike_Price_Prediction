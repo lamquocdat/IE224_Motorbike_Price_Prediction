{
 "cells": [
  {
   "cell_type": "markdown",
   "id": "6a879a24",
   "metadata": {},
   "source": [
    "# Nhóm 17"
   ]
  },
  {
   "cell_type": "markdown",
   "id": "5f34ed9a",
   "metadata": {},
   "source": [
    "Sinh viên thực hiện: \n",
    "STT\tHọ tên\t            MSSV\n",
    "1\tKiều Minh Phước\t    20521774\n",
    "2\tNguyễn Thành Long\t20521571\n",
    "3\tLưu Thượng Vỹ\t    20522179\n",
    "4\tTrương Minh Phong\t20521751\n",
    "5\tLâm Quốc Đạt\t    20520433"
   ]
  },
  {
   "cell_type": "markdown",
   "id": "7316f3dc",
   "metadata": {},
   "source": [
    "## Thêm các thư viện"
   ]
  },
  {
   "cell_type": "code",
   "execution_count": 1,
   "id": "80dfd5ab",
   "metadata": {},
   "outputs": [],
   "source": [
    "import pandas as pd\n",
    "from sklearn.ensemble import RandomForestRegressor\n",
    "from sklearn.metrics import mean_absolute_error, mean_squared_error, median_absolute_error, r2_score\n",
    "from sklearn.model_selection import train_test_split\n",
    "from sklearn.compose import ColumnTransformer\n",
    "from sklearn.pipeline import Pipeline\n",
    "from sklearn.impute import SimpleImputer\n",
    "from sklearn.preprocessing import OneHotEncoder, MaxAbsScaler\n",
    "import numpy as np\n",
    "from sklearn.svm import SVR\n",
    "from sklearn.linear_model import LinearRegression\n",
    "import matplotlib.pyplot as plt\n",
    "from sklearn.preprocessing import StandardScaler\n",
    "from sklearn.neighbors import KNeighborsRegressor\n",
    "from sklearn.tree import DecisionTreeRegressor\n",
    "import seaborn as sns"
   ]
  },
  {
   "cell_type": "code",
   "execution_count": 2,
   "id": "66522724",
   "metadata": {},
   "outputs": [],
   "source": [
    "df = pd.read_csv('processed_motors_dataset.csv')"
   ]
  },
  {
   "cell_type": "markdown",
   "id": "f4baa27c",
   "metadata": {},
   "source": [
    "## Phân tích thăm dò"
   ]
  },
  {
   "cell_type": "code",
   "execution_count": 3,
   "id": "f9f63ec4",
   "metadata": {},
   "outputs": [],
   "source": [
    "# df = df.dropna(subset=['price'])\n",
    "# df = df.dropna(subset=['kilometers_traveled'])\n",
    "# df = df[(df['price'] < 1000000000) & (df['price'] > 1000000)]\n",
    "# df = df.dropna()"
   ]
  },
  {
   "cell_type": "code",
   "execution_count": 4,
   "id": "80a84ede",
   "metadata": {},
   "outputs": [],
   "source": [
    "# import pandas as pd\n",
    "# from scipy.stats import f_oneway\n",
    "\n",
    "# # Giả sử df là DataFrame của bạn\n",
    "\n",
    "# # Lọc các cột phân loại từ DataFrame\n",
    "# categorical_columns = df.select_dtypes(include=['object']).columns\n",
    "\n",
    "# # Tạo một DataFrame mới để lưu kết quả\n",
    "# anova_results = pd.DataFrame(columns=['Column', 'F-statistic', 'P-value'])\n",
    "\n",
    "# # Thực hiện F-test cho từng cột phân loại\n",
    "# for column in categorical_columns:\n",
    "#     unique_values = df[column].unique()\n",
    "    \n",
    "#     # Loại bỏ các cột phân loại có ít hơn hai giá trị\n",
    "#     if len(unique_values) < 2:\n",
    "#         continue\n",
    "    \n",
    "#     # Loại bỏ các dòng có giá trị NaN trong cột 'price'\n",
    "#     data = df[[column, 'price']].dropna()\n",
    "\n",
    "#     # Thực hiện F-test\n",
    "#     f_statistic, p_value = f_oneway(*[data[data[column] == category]['price'] for category in unique_values])\n",
    "    \n",
    "#     # Lưu kết quả vào DataFrame mới\n",
    "#     anova_results = pd.concat([anova_results, pd.DataFrame({\n",
    "#         'Column': [column],\n",
    "#         'F-statistic': [f_statistic],\n",
    "#         'P-value': [p_value]\n",
    "#     })], ignore_index=True)\n",
    "\n",
    "# # Sắp xếp kết quả theo giảm dần của F-statistic\n",
    "# anova_results = anova_results.sort_values(by='F-statistic', ascending=False)\n",
    "# anova_results[anova_results['P-value'] <= 0.05] \n",
    "# # Lấy tập hợp giá trị có F-statistic cao nhất và p-value <= 0.05\n",
    "# top_categories = anova_results['Column'].tolist()\n",
    "\n",
    "# # Hiển thị kết quả\n",
    "# print(top_categories)\n",
    "# anova_results"
   ]
  },
  {
   "cell_type": "code",
   "execution_count": 5,
   "id": "8638370c",
   "metadata": {},
   "outputs": [],
   "source": [
    "# import matplotlib.pyplot as plt\n",
    "\n",
    "# # Vẽ biểu đồ cột cho F-statistic\n",
    "# plt.figure(figsize=(10, 6))\n",
    "# plt.bar(anova_results['Column'], anova_results['F-statistic'], color='blue')\n",
    "# plt.title('ANOVA - F-test')\n",
    "# plt.xlabel('Category')\n",
    "# plt.ylabel('F-test')\n",
    "# plt.xticks(rotation=45, ha='right')\n",
    "# plt.show()\n",
    "\n"
   ]
  },
  {
   "cell_type": "markdown",
   "id": "d5bc4ec7",
   "metadata": {},
   "source": [
    "F-test của 'volume', 'type', 'origin', 'automaker', 'series' lớn nên có khả năng ảnh hưởng mạnh tới biến 'price'.\n",
    "=> 'volume', 'type', 'origin', 'automaker', 'series'"
   ]
  },
  {
   "cell_type": "code",
   "execution_count": 6,
   "id": "c296e603",
   "metadata": {},
   "outputs": [],
   "source": [
    "# import pandas as pd\n",
    "# import scipy.stats as stats\n",
    "\n",
    "# def find_significant_vars(df: pd.DataFrame, target_var: str, alpha: float = 0.05) -> list:\n",
    "   \n",
    "#     numeric_vars = df.select_dtypes(include=['float64', 'int64']).columns\n",
    "   \n",
    "#     numeric_vars = numeric_vars.drop(target_var)\n",
    "    \n",
    "#     significant_vars = []\n",
    "\n",
    "#     results = pd.DataFrame(columns=['Column', 'F-statistic', 'P-value'])\n",
    "    \n",
    "#     for var in numeric_vars:\n",
    "#         correlation, p_value = stats.pearsonr(df[var], df[target_var])\n",
    "        \n",
    "#         if p_value < alpha:\n",
    "\n",
    "#             results = pd.concat([results, pd.DataFrame({\n",
    "#                 'Column': [var],\n",
    "#                 'F-statistic': [correlation],\n",
    "#                 'P-value': [p_value]\n",
    "#             })], ignore_index=True)\n",
    "\n",
    "    \n",
    "#     return results\n",
    "# find_significant_vars(df, 'price')"
   ]
  },
  {
   "cell_type": "code",
   "execution_count": 7,
   "id": "b426d443",
   "metadata": {},
   "outputs": [],
   "source": [
    "# import seaborn as sns\n",
    "# significant_variables = find_significant_vars(df, 'price')\n",
    "\n",
    "# # Plot the results\n",
    "# plt.figure(figsize=(10, 6))\n",
    "# sns.barplot(x='Column', y='F-statistic', data=significant_variables,color='blue')\n",
    "# plt.title('Significant Variables - F-statistic')\n",
    "# plt.ylabel('Hệ số tương quan')  \n",
    "# plt.xticks(rotation=45)\n",
    "# plt.show()\n",
    "\n"
   ]
  },
  {
   "cell_type": "markdown",
   "id": "b4e9afd3",
   "metadata": {},
   "source": [
    "Hệ số tương quan của 'year', 'partner' và 'kilometers_traveled' gần về 0 nên không có sự tương quan = > 3 biến này không ảnh hưởng đến 'price'."
   ]
  },
  {
   "cell_type": "markdown",
   "id": "ae4c1815",
   "metadata": {},
   "source": [
    "## Xây dựng mô hình"
   ]
  },
  {
   "cell_type": "code",
   "execution_count": 8,
   "id": "a849bd46",
   "metadata": {},
   "outputs": [],
   "source": [
    "df = df.dropna()\n",
    "df = df[(df['price'] >= 1000000) & (df['price'] <= 200000000)]"
   ]
  },
  {
   "cell_type": "code",
   "execution_count": 9,
   "id": "08de3552",
   "metadata": {},
   "outputs": [],
   "source": [
    "# Chọn các đặc trưng và biến mục tiêu\n",
    "features = ['volume', 'type', 'origin', 'automaker', 'series']\n",
    "target = 'price'"
   ]
  },
  {
   "cell_type": "code",
   "execution_count": 10,
   "id": "f402d77d",
   "metadata": {},
   "outputs": [],
   "source": [
    "# Đặc trưng có thể chứa dữ liệu categorical\n",
    "categorical_features = ['volume', 'type', 'origin', 'automaker', 'series']"
   ]
  },
  {
   "cell_type": "code",
   "execution_count": 11,
   "id": "90f6ae0c",
   "metadata": {},
   "outputs": [],
   "source": [
    "# # Biểu đồ Barplot cho biến 'volume'\n",
    "# plt.figure(figsize=(8, 6))\n",
    "# sns.barplot(x='volume', y=target, data=df)\n",
    "# plt.title('Barplot for volume vs ' + target)\n",
    "# plt.show()\n",
    "\n"
   ]
  },
  {
   "cell_type": "code",
   "execution_count": 12,
   "id": "bda2a6eb",
   "metadata": {},
   "outputs": [],
   "source": [
    "# # Biểu đồ Barplot cho biến 'type'\n",
    "# plt.figure(figsize=(8, 6))\n",
    "# sns.barplot(x='type', y=target, data=df)\n",
    "# plt.title('Barplot for type vs ' + target)\n",
    "# plt.show()\n",
    "\n",
    "\n"
   ]
  },
  {
   "cell_type": "code",
   "execution_count": 13,
   "id": "18309d7d",
   "metadata": {},
   "outputs": [],
   "source": [
    "# # Biểu đồ Barplot cho biến 'origin'\n",
    "# plt.figure(figsize=(8, 6))\n",
    "# sns.barplot(x='origin', y=target, data=df)\n",
    "# plt.title('Barplot for origin vs ' + target)\n",
    "# plt.show()\n",
    "\n"
   ]
  },
  {
   "cell_type": "code",
   "execution_count": 14,
   "id": "99e94e9d",
   "metadata": {},
   "outputs": [],
   "source": [
    "# # Biểu đồ Barplot cho biến 'automaker'\n",
    "# plt.figure(figsize=(8, 6))\n",
    "# sns.barplot(x='automaker', y=target, data=df)\n",
    "# plt.title('Barplot for automaker vs ' + target)\n",
    "# plt.show()\n",
    "\n"
   ]
  },
  {
   "cell_type": "code",
   "execution_count": 15,
   "id": "6ca80bea",
   "metadata": {},
   "outputs": [],
   "source": [
    "# # Biểu đồ Barplot cho biến 'series'\n",
    "# plt.figure(figsize=(8, 6))\n",
    "# sns.barplot(x='series', y=target, data=df)\n",
    "# plt.title('Barplot for series vs ' + target)\n",
    "# plt.show()"
   ]
  },
  {
   "cell_type": "code",
   "execution_count": 16,
   "id": "efc565a0",
   "metadata": {},
   "outputs": [],
   "source": [
    "# Xây dựng pipeline xử lý dữ liệu\n",
    "categorical_transformer = Pipeline(steps=[\n",
    "    ('imputer', SimpleImputer(strategy='most_frequent')),\n",
    "    ('onehot', OneHotEncoder(handle_unknown='ignore'))\n",
    "])"
   ]
  },
  {
   "cell_type": "code",
   "execution_count": 17,
   "id": "50923229",
   "metadata": {},
   "outputs": [],
   "source": [
    "preprocessor = ColumnTransformer(\n",
    "    transformers=[\n",
    "        ('cat', categorical_transformer, categorical_features)\n",
    "    ]\n",
    ")"
   ]
  },
  {
   "cell_type": "markdown",
   "id": "2258470f",
   "metadata": {},
   "source": [
    "### Lấy ra tập train và tập test"
   ]
  },
  {
   "cell_type": "code",
   "execution_count": 18,
   "id": "e035421e",
   "metadata": {},
   "outputs": [],
   "source": [
    "# Xử lý và chia dữ liệu thành tập huấn luyện và tập kiểm tra\n",
    "X_processed = preprocessor.fit_transform(df[features])\n",
    "X_train, X_test, y_train, y_test = train_test_split(X_processed, df[target], test_size=0.1, random_state=42)"
   ]
  },
  {
   "cell_type": "markdown",
   "id": "2b4420be",
   "metadata": {},
   "source": [
    "X_train, X_test: biến độc lập và phụ thuộc của bộ train"
   ]
  },
  {
   "cell_type": "markdown",
   "id": "f37293cd",
   "metadata": {},
   "source": [
    "y_train, y_test: biến độc lập và phụ thuộc của bộ test"
   ]
  },
  {
   "cell_type": "markdown",
   "id": "f9a2cd1e",
   "metadata": {},
   "source": [
    "### Random Forest"
   ]
  },
  {
   "cell_type": "code",
   "execution_count": 19,
   "id": "deba9295",
   "metadata": {},
   "outputs": [
    {
     "data": {
      "text/html": [
       "<style>#sk-container-id-1 {color: black;}#sk-container-id-1 pre{padding: 0;}#sk-container-id-1 div.sk-toggleable {background-color: white;}#sk-container-id-1 label.sk-toggleable__label {cursor: pointer;display: block;width: 100%;margin-bottom: 0;padding: 0.3em;box-sizing: border-box;text-align: center;}#sk-container-id-1 label.sk-toggleable__label-arrow:before {content: \"▸\";float: left;margin-right: 0.25em;color: #696969;}#sk-container-id-1 label.sk-toggleable__label-arrow:hover:before {color: black;}#sk-container-id-1 div.sk-estimator:hover label.sk-toggleable__label-arrow:before {color: black;}#sk-container-id-1 div.sk-toggleable__content {max-height: 0;max-width: 0;overflow: hidden;text-align: left;background-color: #f0f8ff;}#sk-container-id-1 div.sk-toggleable__content pre {margin: 0.2em;color: black;border-radius: 0.25em;background-color: #f0f8ff;}#sk-container-id-1 input.sk-toggleable__control:checked~div.sk-toggleable__content {max-height: 200px;max-width: 100%;overflow: auto;}#sk-container-id-1 input.sk-toggleable__control:checked~label.sk-toggleable__label-arrow:before {content: \"▾\";}#sk-container-id-1 div.sk-estimator input.sk-toggleable__control:checked~label.sk-toggleable__label {background-color: #d4ebff;}#sk-container-id-1 div.sk-label input.sk-toggleable__control:checked~label.sk-toggleable__label {background-color: #d4ebff;}#sk-container-id-1 input.sk-hidden--visually {border: 0;clip: rect(1px 1px 1px 1px);clip: rect(1px, 1px, 1px, 1px);height: 1px;margin: -1px;overflow: hidden;padding: 0;position: absolute;width: 1px;}#sk-container-id-1 div.sk-estimator {font-family: monospace;background-color: #f0f8ff;border: 1px dotted black;border-radius: 0.25em;box-sizing: border-box;margin-bottom: 0.5em;}#sk-container-id-1 div.sk-estimator:hover {background-color: #d4ebff;}#sk-container-id-1 div.sk-parallel-item::after {content: \"\";width: 100%;border-bottom: 1px solid gray;flex-grow: 1;}#sk-container-id-1 div.sk-label:hover label.sk-toggleable__label {background-color: #d4ebff;}#sk-container-id-1 div.sk-serial::before {content: \"\";position: absolute;border-left: 1px solid gray;box-sizing: border-box;top: 0;bottom: 0;left: 50%;z-index: 0;}#sk-container-id-1 div.sk-serial {display: flex;flex-direction: column;align-items: center;background-color: white;padding-right: 0.2em;padding-left: 0.2em;position: relative;}#sk-container-id-1 div.sk-item {position: relative;z-index: 1;}#sk-container-id-1 div.sk-parallel {display: flex;align-items: stretch;justify-content: center;background-color: white;position: relative;}#sk-container-id-1 div.sk-item::before, #sk-container-id-1 div.sk-parallel-item::before {content: \"\";position: absolute;border-left: 1px solid gray;box-sizing: border-box;top: 0;bottom: 0;left: 50%;z-index: -1;}#sk-container-id-1 div.sk-parallel-item {display: flex;flex-direction: column;z-index: 1;position: relative;background-color: white;}#sk-container-id-1 div.sk-parallel-item:first-child::after {align-self: flex-end;width: 50%;}#sk-container-id-1 div.sk-parallel-item:last-child::after {align-self: flex-start;width: 50%;}#sk-container-id-1 div.sk-parallel-item:only-child::after {width: 0;}#sk-container-id-1 div.sk-dashed-wrapped {border: 1px dashed gray;margin: 0 0.4em 0.5em 0.4em;box-sizing: border-box;padding-bottom: 0.4em;background-color: white;}#sk-container-id-1 div.sk-label label {font-family: monospace;font-weight: bold;display: inline-block;line-height: 1.2em;}#sk-container-id-1 div.sk-label-container {text-align: center;}#sk-container-id-1 div.sk-container {/* jupyter's `normalize.less` sets `[hidden] { display: none; }` but bootstrap.min.css set `[hidden] { display: none !important; }` so we also need the `!important` here to be able to override the default hidden behavior on the sphinx rendered scikit-learn.org. See: https://github.com/scikit-learn/scikit-learn/issues/21755 */display: inline-block !important;position: relative;}#sk-container-id-1 div.sk-text-repr-fallback {display: none;}</style><div id=\"sk-container-id-1\" class=\"sk-top-container\"><div class=\"sk-text-repr-fallback\"><pre>RandomForestRegressor(random_state=42)</pre><b>In a Jupyter environment, please rerun this cell to show the HTML representation or trust the notebook. <br />On GitHub, the HTML representation is unable to render, please try loading this page with nbviewer.org.</b></div><div class=\"sk-container\" hidden><div class=\"sk-item\"><div class=\"sk-estimator sk-toggleable\"><input class=\"sk-toggleable__control sk-hidden--visually\" id=\"sk-estimator-id-1\" type=\"checkbox\" checked><label for=\"sk-estimator-id-1\" class=\"sk-toggleable__label sk-toggleable__label-arrow\">RandomForestRegressor</label><div class=\"sk-toggleable__content\"><pre>RandomForestRegressor(random_state=42)</pre></div></div></div></div></div>"
      ],
      "text/plain": [
       "RandomForestRegressor(random_state=42)"
      ]
     },
     "execution_count": 19,
     "metadata": {},
     "output_type": "execute_result"
    }
   ],
   "source": [
    "# Xây dựng mô hình Random Forest\n",
    "rf_model = RandomForestRegressor(n_estimators=100, random_state=42)\n",
    "rf_model.fit(X_train, y_train)"
   ]
  },
  {
   "cell_type": "markdown",
   "id": "6829361c",
   "metadata": {},
   "source": [
    "### Hồi quy tuyến tính đa biến"
   ]
  },
  {
   "cell_type": "code",
   "execution_count": 20,
   "id": "8bb9432f",
   "metadata": {},
   "outputs": [],
   "source": [
    "# # Xây dựng mô hình hồi quy tuyến tính\n",
    "# lr_model = LinearRegression()\n",
    "# lr_model.fit(X_train, y_train)"
   ]
  },
  {
   "cell_type": "markdown",
   "id": "7d06c007",
   "metadata": {},
   "source": [
    "### KNN"
   ]
  },
  {
   "cell_type": "code",
   "execution_count": 21,
   "id": "07586b85",
   "metadata": {},
   "outputs": [],
   "source": [
    "# # Xây dựng mô hình KNN\n",
    "# knn_model = KNeighborsRegressor(n_neighbors=5)  # Số lượng láng giềng cần xem xét (ở đây là 5)\n",
    "# knn_model.fit(X_train, y_train)"
   ]
  },
  {
   "cell_type": "markdown",
   "id": "6fd2eb07",
   "metadata": {},
   "source": [
    "### Decision Tree"
   ]
  },
  {
   "cell_type": "code",
   "execution_count": 22,
   "id": "5caaa20c",
   "metadata": {},
   "outputs": [],
   "source": [
    "# # Xây dựng mô hình cây quyết định\n",
    "# dt_model = DecisionTreeRegressor(random_state=42)\n",
    "# dt_model.fit(X_train, y_train)"
   ]
  },
  {
   "cell_type": "markdown",
   "id": "ffb143f6",
   "metadata": {},
   "source": [
    "### Kết quả dự đoán của Mô hình"
   ]
  },
  {
   "cell_type": "code",
   "execution_count": 23,
   "id": "4d07bf0d",
   "metadata": {},
   "outputs": [],
   "source": [
    "# # Dự đoán trên tập kiểm tra\n",
    "# y_pred_rf = rf_model.predict(X_test)\n",
    "# y_pred_lr = lr_model.predict(X_test)\n",
    "# y_pred_knn = knn_model.predict(X_test)\n",
    "# y_pred_dt = dt_model.predict(X_test)"
   ]
  },
  {
   "cell_type": "markdown",
   "id": "366496d4",
   "metadata": {},
   "source": [
    "## Đánh giá mô hình"
   ]
  },
  {
   "cell_type": "markdown",
   "id": "f58a51c1",
   "metadata": {},
   "source": [
    "### Các thang đo"
   ]
  },
  {
   "cell_type": "markdown",
   "id": "ff44994e",
   "metadata": {},
   "source": [
    "#### Dictionary về các model và giá trị dự đoán của chúng"
   ]
  },
  {
   "cell_type": "code",
   "execution_count": 24,
   "id": "c8746297",
   "metadata": {},
   "outputs": [],
   "source": [
    "# # Đưa các mô hình và kết quả dự đoán của chúng vào trong một dictionary\n",
    "# d = {\n",
    "#      'Random Forest': y_pred_rf, \n",
    "#      'Linear Regression': y_pred_lr, \n",
    "#      'KNN': y_pred_knn, \n",
    "#      'Decision Tree': y_pred_dt\n",
    "# }"
   ]
  },
  {
   "cell_type": "code",
   "execution_count": 25,
   "id": "df7a46e1",
   "metadata": {},
   "outputs": [],
   "source": [
    "# # Hàm tính kết quả các thang đo\n",
    "# def ketQuaCacThangDo(models, dataTest, dataTrain, X_test):\n",
    "#     results = []\n",
    "#     n = len(dataTest)  # Số lượng mẫu\n",
    "#     p = X_test.shape[1]  # Số lượng features\n",
    "    \n",
    "#     for model, dataPred in models.items():\n",
    "#         data_train_mean = dataTrain.mean()\n",
    "        \n",
    "#         mae = mean_absolute_error(dataTest, dataPred)\n",
    "#         medae = median_absolute_error(dataTest, dataPred)\n",
    "#         rae = mae / mean_absolute_error(dataTest, [data_train_mean] * len(dataTest))\n",
    "#         rmse = np.sqrt(mean_squared_error(dataTest, dataPred))\n",
    "#         r2 = r2_score(dataTest, dataPred)\n",
    "#         adjusted_r2 = 1 - (1 - r2) * (n - 1) / (n - p - 1)\n",
    "    \n",
    "\n",
    "#         results.append({\n",
    "#             'Model': model,\n",
    "#             'MAE': f'{mae:.8f}',\n",
    "#             'RAE': f'{rae:.16f}',\n",
    "#             'RMSE': f'{rmse:.8f}',\n",
    "#             'R²': f'{r2:.8f}',\n",
    "#             'Adjusted R²': f'{adjusted_r2:.8f}'\n",
    "#         })\n",
    "    \n",
    "#     return pd.DataFrame(results)"
   ]
  },
  {
   "cell_type": "code",
   "execution_count": 26,
   "id": "d72a8dcf",
   "metadata": {},
   "outputs": [],
   "source": [
    "# ketQuaCacThangDo(d, y_test, y_train, X_test)"
   ]
  },
  {
   "cell_type": "markdown",
   "id": "66728cfb",
   "metadata": {},
   "source": [
    "### Đánh giá trực quan mô hình"
   ]
  },
  {
   "cell_type": "markdown",
   "id": "144e7228",
   "metadata": {},
   "source": [
    "#### Scatter plots"
   ]
  },
  {
   "cell_type": "code",
   "execution_count": 27,
   "id": "cd84bf4f",
   "metadata": {},
   "outputs": [],
   "source": [
    "# from matplotlib import pyplot as plt\n",
    "\n",
    "# # Tạo dãy số từ giá trị nhỏ nhất đến lớn nhất của y_test\n",
    "# x_range = np.linspace(min(y_test), max(y_test), 100)\n",
    "\n",
    "# # Tạo danh sách màu ngẫu nhiên theo số lượng model\n",
    "# palette = sns.color_palette(\"husl\", n_colors=len(d))\n",
    "\n",
    "# for i, (model, dataPred) in enumerate(d.items()):\n",
    "#     plt.figure(figsize=(9, 4.45))\n",
    "#     plt.plot(x_range, x_range, linestyle='--', color='gray', linewidth=2, label='Perfect Presdiction')\n",
    "    \n",
    "#     color = palette[i]\n",
    "#     plt.plot(y_test, dataPred, 'o', color=color, label=f'{model}')\n",
    "\n",
    "#     plt.title(f'Biểu đồ so sánh giữa giá thực tế và giá dự đoán của mô hình {model}')\n",
    "#     plt.xlabel('Giá thực tế')\n",
    "#     plt.ylabel('Giá dự đoán')\n",
    "#     plt.legend()\n",
    "#     plt.show()"
   ]
  },
  {
   "cell_type": "markdown",
   "id": "a858ac02",
   "metadata": {},
   "source": [
    "#### KDE (Kernel Density Estimate) plot"
   ]
  },
  {
   "cell_type": "code",
   "execution_count": 28,
   "id": "20fcc4c0",
   "metadata": {},
   "outputs": [],
   "source": [
    "# for model, dataPred in d.items():\n",
    "#     fig, ax1 = plt.subplots(figsize=(9, 4.3))\n",
    "\n",
    "#     ax1 = sns.kdeplot(y_test, fill=False, color='r', label=\"Actual Value\")\n",
    "\n",
    "#     sns.kdeplot(dataPred, fill=False, color='b', label=\"Predicted Value\", ax=ax1)\n",
    "    \n",
    "#     ax1.set_title(f\"KDE plot biểu diễn phân phối giá thực tế và dự đoán của mô hình {model}\")\n",
    "    \n",
    "#     plt.xlabel('Giá')\n",
    "#     plt.ylabel('Mật độ')\n",
    "#     plt.legend()\n",
    "#     plt.show()"
   ]
  },
  {
   "cell_type": "markdown",
   "id": "8c9033b6",
   "metadata": {},
   "source": [
    "#### Residual plot"
   ]
  },
  {
   "cell_type": "code",
   "execution_count": 29,
   "id": "c4758acf",
   "metadata": {},
   "outputs": [],
   "source": [
    "# for model, dataPred in d.items():\n",
    "#     plt.figure(figsize=(9, 4.45))\n",
    "    \n",
    "#     residuals = y_test - dataPred\n",
    "    \n",
    "#     plt.scatter(dataPred, residuals)\n",
    "    \n",
    "#     plt.xlabel(\"Dự đoán\")\n",
    "#     plt.ylabel(\"Sai số\")\n",
    "#     plt.title(f\"Biểu đồ biểu diễn sai số giữa giá thực tế và giá dự đóan của {model}\")\n",
    "#     plt.axhline(y=0, color='r', linestyle='--')\n",
    "    \n",
    "#     plt.show()"
   ]
  },
  {
   "cell_type": "code",
   "execution_count": 30,
   "id": "15130243",
   "metadata": {},
   "outputs": [
    {
     "data": {
      "text/plain": [
       "['models/random_forest.joblib']"
      ]
     },
     "execution_count": 30,
     "metadata": {},
     "output_type": "execute_result"
    }
   ],
   "source": [
    "from joblib import dump\n",
    "import os\n",
    "dump(rf_model, '../models/random_forest.joblib')"
   ]
  },
  {
   "cell_type": "code",
   "execution_count": 31,
   "id": "7d4b7d43",
   "metadata": {},
   "outputs": [
    {
     "data": {
      "text/plain": [
       "['models/encoder.joblib']"
      ]
     },
     "execution_count": 31,
     "metadata": {},
     "output_type": "execute_result"
    }
   ],
   "source": [
    "encoder = preprocessor.named_transformers_['cat'].named_steps['onehot']\n",
    "dump(encoder, '../models/encoder.joblib')"
   ]
  },
  {
   "cell_type": "code",
   "execution_count": null,
   "id": "89ec74b9",
   "metadata": {},
   "outputs": [],
   "source": []
  }
 ],
 "metadata": {
  "kernelspec": {
   "display_name": "Python 3 (ipykernel)",
   "language": "python",
   "name": "python3"
  },
  "language_info": {
   "codemirror_mode": {
    "name": "ipython",
    "version": 3
   },
   "file_extension": ".py",
   "mimetype": "text/x-python",
   "name": "python",
   "nbconvert_exporter": "python",
   "pygments_lexer": "ipython3",
   "version": "3.11.4"
  }
 },
 "nbformat": 4,
 "nbformat_minor": 5
}
